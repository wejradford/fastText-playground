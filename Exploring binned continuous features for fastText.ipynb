{
 "cells": [
  {
   "cell_type": "markdown",
   "metadata": {},
   "source": [
    "# Exploring binned continuous features for fastText\n",
    "\n",
    "By @wejradford\n",
    "\n",
    "## Installation\n",
    "\n",
    "* Python bindings for fastText: https://github.com/facebookresearch/fastText/\n",
    "* Extra python: `pip install scipy sklearn jupyter`\n",
    "* YouTube comments dataset: https://archive.ics.uci.edu/ml/datasets/YouTube+Spam+Collection\n",
    "\n",
    "## Read in the data from the YouTube Spam Collection"
   ]
  },
  {
   "cell_type": "code",
   "execution_count": 1,
   "metadata": {},
   "outputs": [
    {
     "name": "stdout",
     "output_type": "stream",
     "text": [
      "Read 1956 rows\n"
     ]
    }
   ],
   "source": [
    "from collections import Counter\n",
    "import csv\n",
    "import datetime\n",
    "import glob\n",
    "import pprint\n",
    "import random\n",
    "import re\n",
    "import statistics\n",
    "\n",
    "import fastText\n",
    "from sklearn.model_selection import KFold\n",
    "\n",
    "# Be repeatable.\n",
    "random.seed(1)\n",
    "\n",
    "rows = []\n",
    "for fname in glob.glob('YouTube-Spam-Collection-v1/*csv'):\n",
    "    with open(fname) as f:\n",
    "        rows.extend(list(csv.DictReader(f)))\n",
    "random.shuffle(rows)\n",
    "print('Read {} rows'.format(len(rows)))"
   ]
  },
  {
   "cell_type": "markdown",
   "metadata": {},
   "source": [
    "The data has a few columns:"
   ]
  },
  {
   "cell_type": "code",
   "execution_count": 2,
   "metadata": {},
   "outputs": [
    {
     "name": "stdout",
     "output_type": "stream",
     "text": [
      "OrderedDict([('COMMENT_ID', '_2viQ_Qnc68YBtosyTVGLy_Fs4YYXoiWd5-wKXnaIw4'),\n",
      "             ('AUTHOR', 'celebsongspoof'),\n",
      "             ('DATE', '2013-10-27T19:00:17.015000'),\n",
      "             ('CONTENT',\n",
      "              'Hey guys whats up? I found this app that lets you get free gift '\n",
      "              'card vouchers like psn cards,X-box live cards and even amazon '\n",
      "              'gift cards. For free! All you have to do is  simply just '\n",
      "              'download the app from the app store. It is called juno wallet. '\n",
      "              'All you have to do is just sign up for the app and then '\n",
      "              'complete a few surveys or just download some other free apps '\n",
      "              'and you get money like 10 cents. Also, if you type in the code '\n",
      "              'IM2458444. You will also start off with $0.25 free!! '),\n",
      "             ('CLASS', '1')])\n"
     ]
    }
   ],
   "source": [
    "pprint.pprint(rows[0])"
   ]
  },
  {
   "cell_type": "markdown",
   "metadata": {},
   "source": [
    "We're going to try two ways to represent the data:\n",
    "* Text only\n",
    "* Text plus binned temporal features"
   ]
  },
  {
   "cell_type": "code",
   "execution_count": 3,
   "metadata": {},
   "outputs": [],
   "source": [
    "# Simple whitespace tokeniser.\n",
    "EXP = re.compile('\\s+')\n",
    "\n",
    "\n",
    "def write_data(data, fname, binned_features=False):\n",
    "    labels = Counter()\n",
    "    with open(fname, 'w') as f:\n",
    "        for row in data:\n",
    "            inst = {}            \n",
    "            # Add the label.\n",
    "            inst['label'] = int(row['CLASS'])\n",
    "            \n",
    "            # Base features are lower-cased tokens.\n",
    "            tokens = EXP.split(row['CONTENT'].lower().strip())\n",
    "            inst['text'] = ' '.join(tokens)\n",
    "            \n",
    "            \n",
    "            # Optional binned time features.\n",
    "            inst['binned'] = ''\n",
    "            if binned_features:\n",
    "                raw = row['DATE'].split('.')[0]\n",
    "                if raw:\n",
    "                    dt = datetime.datetime.strptime(raw, '%Y-%m-%dT%H:%M:%S')\n",
    "                    # Represent the time by $type$value\n",
    "                    # Separate \"tokens\" means n-grams will also trigger here (i.e. month+day, day+hour)\n",
    "                    # One caveat here is that sub-token embeddings may also trigger :/\n",
    "                    inst['binned'] = 'm{} d{} h{}'.format(dt.month, dt.day, dt.hour)\n",
    "\n",
    "            # Write the partitioned data row.\n",
    "            f.write('__label__{label} {text} _ _ {binned}\\n'.format(**inst))\n",
    "            labels[inst['label']] += 1\n",
    "    return fname"
   ]
  },
  {
   "cell_type": "markdown",
   "metadata": {},
   "source": [
    "Experiments are going to be cross-validation over the dataset, reporting P@1, R@1."
   ]
  },
  {
   "cell_type": "code",
   "execution_count": 4,
   "metadata": {},
   "outputs": [
    {
     "name": "stdout",
     "output_type": "stream",
     "text": [
      "Binned\tP\t\tR\n",
      "False\t0.90 ±0.04\t0.90 ±0.04\n",
      "True\t0.92 ±0.04\t0.92 ±0.04\n"
     ]
    }
   ],
   "source": [
    "def run_experiment(rows, n=10, binned_features=False):\n",
    "    \"\"\" Runs a 10-fold cross-validation experiment, printing precision and recall. \"\"\"\n",
    "    p_sample, r_sample = [], []\n",
    "    for train_indices, test_indices in KFold(n_splits=n).split(rows):\n",
    "        train = [rows[i] for i in train_indices]\n",
    "        test = [rows[i] for i in test_indices]\n",
    "        train_fname = write_data(train, 'train.txt', binned_features=binned_features)\n",
    "        test_fname = write_data(test, 'test.txt', binned_features=binned_features)\n",
    "        model = fastText.train_supervised(\n",
    "            input=train_fname, \n",
    "            epoch=25, \n",
    "            lr=1.0, \n",
    "            wordNgrams=2, \n",
    "            verbose=2, \n",
    "            minCount=1,\n",
    "        )\n",
    "        _, p, r = model.test(test_fname)\n",
    "        p_sample.append(p)\n",
    "        r_sample.append(r)\n",
    "    metrics = {\n",
    "        'binned': binned_features,\n",
    "        'p_mean': statistics.mean(p_sample),\n",
    "        'p_95': 2 * statistics.stdev(p_sample),\n",
    "        'r_mean': statistics.mean(r_sample),\n",
    "        'r_95': 2 * statistics.stdev(r_sample),\n",
    "    }\n",
    "    print('{binned}\\t{p_mean:.2f} ±{p_95:.2f}\\t{p_mean:.2f} ±{p_95:.2f}'.format(**metrics))\n",
    "    \n",
    "print('Binned\\tP\\t\\tR')\n",
    "run_experiment(rows, 10, False)\n",
    "run_experiment(rows, 10, True)"
   ]
  },
  {
   "cell_type": "markdown",
   "metadata": {},
   "source": [
    "## Conclusion\n",
    "\n",
    "Using binned temporal features seems to give a performance boost in this task, but not clear how statistically-significant it is. YMMV..."
   ]
  }
 ],
 "metadata": {
  "kernelspec": {
   "display_name": "Python 3",
   "language": "python",
   "name": "python3"
  },
  "language_info": {
   "codemirror_mode": {
    "name": "ipython",
    "version": 3
   },
   "file_extension": ".py",
   "mimetype": "text/x-python",
   "name": "python",
   "nbconvert_exporter": "python",
   "pygments_lexer": "ipython3",
   "version": "3.6.4"
  }
 },
 "nbformat": 4,
 "nbformat_minor": 2
}
